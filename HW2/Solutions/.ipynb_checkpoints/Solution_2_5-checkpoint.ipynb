{
 "cells": [
  {
   "cell_type": "code",
   "execution_count": 8,
   "metadata": {},
   "outputs": [],
   "source": [
    "import numpy as np\n",
    "import matplotlib.pyplot as plt\n",
    "from scipy.stats import multivariate_normal\n",
    "from scipy.linalg import sqrtm\n",
    "import math\n"
   ]
  },
  {
   "cell_type": "code",
   "execution_count": 9,
   "metadata": {},
   "outputs": [],
   "source": [
    "data_x = []\n",
    "data_y = []\n",
    "N = 400\n",
    "prior = [0.05, 0.95]\n",
    "l_1 = 0\n",
    "\n",
    "mu_x = [0, 0]\n",
    "variance_x = [[3, 1], [1, 0.8]]\n",
    "\n",
    "mu_y = [3,3]\n",
    "variance_y = [[3, 1], [1, 0.8]]\n",
    "\n"
   ]
  },
  {
   "cell_type": "code",
   "execution_count": 10,
   "metadata": {},
   "outputs": [],
   "source": [
    "#generating sample and checking for prior values\n",
    "for i in range(N):\n",
    "    if np.random.uniform(0, 1, 1) <= prior[0]:\n",
    "        l_1 = l_1 + 1\n",
    "\n",
    "l_2 = N - l_1\n",
    "        "
   ]
  },
  {
   "cell_type": "code",
   "execution_count": 11,
   "metadata": {},
   "outputs": [],
   "source": [
    "#generating data according to for label x\n",
    "z = np.random.multivariate_normal([0, 0], [[1, 0], [0, 1]], l_1)\n",
    "for i in range(l_1):\n",
    "    data_x.append(np.matmul(sqrtm(variance_x),z[i, :]) + mu_x)\n",
    "\n",
    "z = np.random.multivariate_normal([0, 0], [[1, 0], [0, 1]], l_2)\n",
    "for i in range(l_2):\n",
    "    data_y.append(np.matmul(sqrtm(variance_y),z[i, :]) + mu_y)    \n"
   ]
  },
  {
   "cell_type": "code",
   "execution_count": 12,
   "metadata": {},
   "outputs": [],
   "source": [
    "def normal_prob(x, m, v):\n",
    "    x_t = x\n",
    "    m_t = m\n",
    "    np.reshape(x, (2,1))\n",
    "    np.reshape(m, (2,1))\n",
    "    p = math.exp(-0.5*np.matmul(np.matmul((x_t-m_t), np.linalg.inv(v)), (x-m)))/(2*math.pi*np.linalg.det(v))\n",
    "    return p"
   ]
  },
  {
   "cell_type": "code",
   "execution_count": 13,
   "metadata": {},
   "outputs": [],
   "source": [
    "x_right = []\n",
    "x_error = []\n",
    "y_right = []\n",
    "y_error = []\n",
    "\n",
    "for i in range(l_1):\n",
    "    p_1 = normal_prob(np.array(data_x)[i, :], mu_x, variance_x)\n",
    "    p_2 = normal_prob(np.array(data_x)[i, :], mu_y, variance_y)\n",
    "    if (p_1*prior[0] > p_2*prior[1]):\n",
    "        x_right.append(np.array(data_x)[i, :])\n",
    "    else:\n",
    "        x_error.append(np.array(data_x)[i, :])\n",
    "        \n",
    "for i in range(l_2):\n",
    "    p_1 = normal_prob(np.array(data_y)[i, :], mu_x, variance_x)\n",
    "    p_2 = normal_prob(np.array(data_y)[i, :], mu_y, variance_y)\n",
    "    if (p_1*prior[0] < p_2*prior[1]):\n",
    "        y_right.append(np.array(data_y)[i, :])\n",
    "    else:\n",
    "        y_error.append(np.array(data_y)[i, :])"
   ]
  },
  {
   "cell_type": "code",
   "execution_count": 16,
   "metadata": {},
   "outputs": [
    {
     "data": {
      "image/png": "[encoded data removed]",
      "text/plain": [
       "<Figure size 432x288 with 1 Axes>"
      ]
     },
     "metadata": {
      "needs_background": "light"
     },
     "output_type": "display_data"
    }
   ],
   "source": [
    "fig = plt.figure()\n",
    "ax = fig.add_subplot(1, 1, 1)\n",
    "ax.scatter(np.array(x_right)[:, 0], np.array(x_right)[:, 1], alpha=0.7, label='Correct classified Label 1')\n",
    "ax.scatter(np.array(y_right)[:, 0], np.array(y_right)[:, 1], alpha=0.7, label='Correct classified Label 2')\n",
    "ax.scatter(np.array(x_error)[:, 0], np.array(x_error)[:, 1], alpha=1, label='Incorrect classified Label 1')\n",
    "ax.scatter(np.array(y_error)[:, 0], np.array(y_error)[:, 1], alpha=1, label='Incorrect classified Label 2')\n",
    "ax.legend()\n",
    "plt.show()"
   ]
  },
  {
   "cell_type": "code",
   "execution_count": 17,
   "metadata": {},
   "outputs": [
    {
     "name": "stdout",
     "output_type": "stream",
     "text": [
      "The error probability is 0.0125.\n"
     ]
    }
   ],
   "source": [
    "print(\"The error probability is {}.\".format((len(x_error) + len(y_error))/400))"
   ]
  },
  {
   "cell_type": "code",
   "execution_count": null,
   "metadata": {},
   "outputs": [],
   "source": []
  }
 ],
 "metadata": {
  "kernelspec": {
   "display_name": "Python 3",
   "language": "python",
   "name": "python3"
  },
  "language_info": {
   "codemirror_mode": {
    "name": "ipython",
    "version": 3
   },
   "file_extension": ".py",
   "mimetype": "text/x-python",
   "name": "python",
   "nbconvert_exporter": "python",
   "pygments_lexer": "ipython3",
   "version": "3.7.3"
  }
 },
 "nbformat": 4,
 "nbformat_minor": 2
}
