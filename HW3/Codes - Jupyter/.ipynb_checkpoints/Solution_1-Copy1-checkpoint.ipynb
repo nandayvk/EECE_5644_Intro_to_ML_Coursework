{
 "cells": [
  {
   "cell_type": "code",
   "execution_count": 110,
   "metadata": {},
   "outputs": [],
   "source": [
    "import numpy as np\n",
    "import matplotlib.pyplot as plt\n",
    "from scipy.stats import multivariate_normal\n",
    "from scipy.linalg import sqrtm\n",
    "import math\n",
    "from sklearn.mixture import GaussianMixture"
   ]
  },
  {
   "cell_type": "code",
   "execution_count": 119,
   "metadata": {},
   "outputs": [
    {
     "data": {
      "text/plain": [
       "0.3"
      ]
     },
     "execution_count": 119,
     "metadata": {},
     "output_type": "execute_result"
    }
   ],
   "source": [
    "t_mu = [[1, 1], [-1, 1], [-1, -1], [1, -1]]\n",
    "t_var_1 = [[0.5, 0], [0, 0.5]]\n",
    "prior = [0.30, 0.25, 0.28, 0.17]\n",
    "\n",
    "M = 6\n",
    "N = 10\n",
    "l_1 = 0\n",
    "l_2 = 0\n",
    "l_3 = 0\n",
    "l_4 = 0\n",
    "\n",
    "prior[0]"
   ]
  },
  {
   "cell_type": "code",
   "execution_count": 120,
   "metadata": {},
   "outputs": [],
   "source": [
    "# #generating random priors for true GMM\n",
    "# prior = []\n",
    "# u = 1\n",
    "# for i in range(3):\n",
    "#     prior.append(np.random.uniform(0, u, 1))\n",
    "#     u = u - prior[i]\n",
    "# prior.append(u)\n",
    "\n",
    "#generating number of sample for the GMMs\n",
    "for i in range(N):\n",
    "    temp = np.random.uniform(0, 1, 1)\n",
    "    if temp <= prior[0]:\n",
    "        l_1 = l_1 + 1\n",
    "    elif temp <= prior[0] + prior[1]:\n",
    "        l_2 = l_2 + 1\n",
    "    elif temp <= prior[0] + prior[1] + prior[2]:\n",
    "        l_3 = l_3 + 1\n",
    "l_4 = N - l_1 - l_2 - l_3\n",
    "  "
   ]
  },
  {
   "cell_type": "code",
   "execution_count": 121,
   "metadata": {},
   "outputs": [],
   "source": [
    "#generating data according to component\n",
    "data = []\n",
    "\n",
    "for i in range(l_1):\n",
    "    data.append(np.random.multivariate_normal(t_mu[0], t_var_1, 1))\n",
    "for i in range(l_2):\n",
    "    data.append(np.random.multivariate_normal(t_mu[1], t_var_1, 1))\n",
    "for i in range(l_3):\n",
    "    data.append(np.random.multivariate_normal(t_mu[2], t_var_1, 1))\n",
    "for i in range(l_4):\n",
    "    data.append(np.random.multivariate_normal(t_mu[3], t_var_1, 1))"
   ]
  },
  {
   "cell_type": "code",
   "execution_count": 134,
   "metadata": {},
   "outputs": [
    {
     "data": {
      "image/png": "[encoded data removed]",
      "text/plain": [
       "<Figure size 576x576 with 1 Axes>"
      ]
     },
     "metadata": {
      "needs_background": "light"
     },
     "output_type": "display_data"
    }
   ],
   "source": [
    "fig = plt.figure(figsize=(8, 8))\n",
    "ax = fig.add_subplot(1, 1, 1)\n",
    "ax.scatter(np.array(data).reshape(N,2)[:, 0], np.array(data).reshape(N,2)[:, 1], alpha=1, label='Data')\n",
    "ax.legend()\n",
    "plt.show()"
   ]
  },
  {
   "cell_type": "code",
   "execution_count": 130,
   "metadata": {},
   "outputs": [
    {
     "data": {
      "text/plain": [
       "array([[ 0.78916331,  0.55425086],\n",
       "       [ 1.25041381,  1.22999581],\n",
       "       [ 1.48792973,  1.99566825],\n",
       "       [ 0.26684341,  0.76347716],\n",
       "       [ 1.26417207,  1.19355251],\n",
       "       [ 0.52553103,  2.19151304],\n",
       "       [-1.65524387,  0.55976052],\n",
       "       [-1.24757294,  2.51265306],\n",
       "       [-0.81801294, -0.03361906],\n",
       "       [ 0.46844232, -0.62978845]])"
      ]
     },
     "execution_count": 130,
     "metadata": {},
     "output_type": "execute_result"
    }
   ],
   "source": [
    "np.array(data).reshape(N, 2)"
   ]
  },
  {
   "cell_type": "code",
   "execution_count": 2,
   "metadata": {},
   "outputs": [],
   "source": [
    "# for i in range(M):\n",
    "#         gmm = GaussianMixture(i)\n",
    "#         gmm.fit(np.array(data).reshape(N, 2))"
   ]
  },
  {
   "cell_type": "code",
   "execution_count": 3,
   "metadata": {},
   "outputs": [
    {
     "ename": "SyntaxError",
     "evalue": "unexpected EOF while parsing (<ipython-input-3-ba9431ae2300>, line 4)",
     "output_type": "error",
     "traceback": [
      "\u001b[1;36m  File \u001b[1;32m\"<ipython-input-3-ba9431ae2300>\"\u001b[1;36m, line \u001b[1;32m4\u001b[0m\n\u001b[1;33m    for i in range(0, c, 1):\u001b[0m\n\u001b[1;37m                            ^\u001b[0m\n\u001b[1;31mSyntaxError\u001b[0m\u001b[1;31m:\u001b[0m unexpected EOF while parsing\n"
     ]
    }
   ],
   "source": [
    "for i in range(M):\n",
    "    c = 0\n",
    "    for j in range(10):\n",
    "        for i in range(0, c, 1):\n",
    "            "
   ]
  },
  {
   "cell_type": "code",
   "execution_count": null,
   "metadata": {},
   "outputs": [],
   "source": []
  },
  {
   "cell_type": "code",
   "execution_count": null,
   "metadata": {},
   "outputs": [],
   "source": []
  },
  {
   "cell_type": "code",
   "execution_count": null,
   "metadata": {},
   "outputs": [],
   "source": []
  }
 ],
 "metadata": {
  "kernelspec": {
   "display_name": "Python 3",
   "language": "python",
   "name": "python3"
  },
  "language_info": {
   "codemirror_mode": {
    "name": "ipython",
    "version": 3
   },
   "file_extension": ".py",
   "mimetype": "text/x-python",
   "name": "python",
   "nbconvert_exporter": "python",
   "pygments_lexer": "ipython3",
   "version": "3.7.3"
  }
 },
 "nbformat": 4,
 "nbformat_minor": 2
}
