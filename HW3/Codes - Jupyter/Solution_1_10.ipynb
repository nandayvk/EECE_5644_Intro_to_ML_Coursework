{
 "cells": [
  {
   "cell_type": "markdown",
   "metadata": {},
   "source": [
    "## Question 1:\n",
    "### a) Number of datasets: 10"
   ]
  },
  {
   "cell_type": "code",
   "execution_count": 548,
   "metadata": {},
   "outputs": [],
   "source": [
    "import numpy as np\n",
    "import matplotlib.pyplot as plt\n",
    "from scipy.stats import multivariate_normal\n",
    "from scipy.linalg import sqrtm\n",
    "import math\n",
    "from sklearn.mixture import GaussianMixture"
   ]
  },
  {
   "cell_type": "code",
   "execution_count": 600,
   "metadata": {},
   "outputs": [],
   "source": [
    "t_mu = [[2, 2], [-2, 2], [-2, -2], [1, -1]]\n",
    "t_var_1 = [[0.1, 0], [0, 0.1]]\n",
    "t_var_2 = [[0.2, 0.1], [0.1, 0.3]]\n",
    "t_var_3 = [[0.3, 0], [0, 0.2]]\n",
    "t_var_4 = [[0.2, 0], [0, 0.3]]\n",
    "prior = [0.30, 0.25, 0.28, 0.17]\n",
    "\n",
    "M = 6\n",
    "N = 10\n",
    "l_1 = 0\n",
    "l_2 = 0\n",
    "l_3 = 0\n",
    "l_4 = 0\n",
    "\n",
    "likelihood = []\n",
    "bic = []"
   ]
  },
  {
   "cell_type": "code",
   "execution_count": 601,
   "metadata": {},
   "outputs": [],
   "source": [
    "#generating number of sample for the GMMs\n",
    "for i in range(N):\n",
    "    temp = np.random.uniform(0, 1, 1)\n",
    "    if temp <= prior[0]:\n",
    "        l_1 = l_1 + 1\n",
    "    elif temp <= prior[0] + prior[1]:\n",
    "        l_2 = l_2 + 1\n",
    "    elif temp <= prior[0] + prior[1] + prior[2]:\n",
    "        l_3 = l_3 + 1\n",
    "l_4 = N - l_1 - l_2 - l_3"
   ]
  },
  {
   "cell_type": "code",
   "execution_count": 602,
   "metadata": {},
   "outputs": [],
   "source": [
    "#generating data according to component\n",
    "data = []\n",
    "\n",
    "for i in range(l_1):\n",
    "    data.append(np.random.multivariate_normal(t_mu[0], t_var_1, 1))\n",
    "for i in range(l_2):\n",
    "    data.append(np.random.multivariate_normal(t_mu[1], t_var_2, 1))\n",
    "for i in range(l_3):\n",
    "    data.append(np.random.multivariate_normal(t_mu[2], t_var_3, 1))\n",
    "for i in range(l_4):\n",
    "    data.append(np.random.multivariate_normal(t_mu[3], t_var_4, 1))"
   ]
  },
  {
   "cell_type": "code",
   "execution_count": 603,
   "metadata": {},
   "outputs": [
    {
     "data": {
      "image/png": "[encoded data removed]",
      "text/plain": [
       "<Figure size 576x576 with 1 Axes>"
      ]
     },
     "metadata": {
      "needs_background": "light"
     },
     "output_type": "display_data"
    }
   ],
   "source": [
    "fig = plt.figure(figsize=(8, 8))\n",
    "ax = fig.add_subplot(1, 1, 1)\n",
    "ax.scatter(np.array(data).reshape(N,2)[:, 0], np.array(data).reshape(N,2)[:, 1], alpha=1, label='Data')\n",
    "ax.legend()\n",
    "plt.show()"
   ]
  },
  {
   "cell_type": "code",
   "execution_count": 604,
   "metadata": {},
   "outputs": [
    {
     "name": "stderr",
     "output_type": "stream",
     "text": [
      "C:\\Users\\nanda\\Anaconda3\\lib\\site-packages\\ipykernel_launcher.py:21: RuntimeWarning: divide by zero encountered in log\n",
      "C:\\Users\\nanda\\Anaconda3\\lib\\site-packages\\ipykernel_launcher.py:21: RuntimeWarning: divide by zero encountered in log\n",
      "C:\\Users\\nanda\\Anaconda3\\lib\\site-packages\\ipykernel_launcher.py:21: RuntimeWarning: divide by zero encountered in log\n",
      "C:\\Users\\nanda\\Anaconda3\\lib\\site-packages\\ipykernel_launcher.py:21: RuntimeWarning: divide by zero encountered in log\n",
      "C:\\Users\\nanda\\Anaconda3\\lib\\site-packages\\ipykernel_launcher.py:21: RuntimeWarning: divide by zero encountered in log\n",
      "C:\\Users\\nanda\\Anaconda3\\lib\\site-packages\\ipykernel_launcher.py:21: RuntimeWarning: divide by zero encountered in log\n",
      "C:\\Users\\nanda\\Anaconda3\\lib\\site-packages\\ipykernel_launcher.py:21: RuntimeWarning: divide by zero encountered in log\n",
      "C:\\Users\\nanda\\Anaconda3\\lib\\site-packages\\ipykernel_launcher.py:21: RuntimeWarning: divide by zero encountered in log\n",
      "C:\\Users\\nanda\\Anaconda3\\lib\\site-packages\\ipykernel_launcher.py:21: RuntimeWarning: divide by zero encountered in log\n",
      "C:\\Users\\nanda\\Anaconda3\\lib\\site-packages\\ipykernel_launcher.py:21: RuntimeWarning: divide by zero encountered in log\n",
      "C:\\Users\\nanda\\Anaconda3\\lib\\site-packages\\ipykernel_launcher.py:21: RuntimeWarning: divide by zero encountered in log\n"
     ]
    }
   ],
   "source": [
    "for h in range(M):\n",
    "    sum_3 = 0\n",
    "    for c in range(10):\n",
    "        sum_2 = 0\n",
    "        new_data = []\n",
    "        for d in range(0, int(0.1*N*c), 1):\n",
    "            new_data.append(np.array(data).reshape(N,2)[int(d), :])\n",
    "        for d in range(int(0.1*N*(c+1)), N, 1):\n",
    "            new_data.append(np.array(data).reshape(N,2)[int(d), :])\n",
    "        gmm = GaussianMixture(n_components = h+1)\n",
    "        label = gmm.fit_predict(np.array(new_data).reshape(int(0.9*N), 2))\n",
    "        alpha = gmm.weights_\n",
    "        mean = gmm.means_\n",
    "        covariance = gmm.covariances_\n",
    "        for i in range(int(0.1*N*c), int(0.1*N*(c+1)), 1):\n",
    "            sum_1 = 0\n",
    "            for j in range(h+1):\n",
    "                p = math.exp(-0.5*np.matmul(np.matmul((np.array(data).reshape(N,2)[i,:]) - mean[j,:], \n",
    "                    np.linalg.inv(covariance[j])), (np.array(data).reshape(N,2)[i,:]) - mean.reshape(h+1,2)[j,:]))/(2*math.pi*np.linalg.det(covariance[j]))\n",
    "                sum_1 = sum_1 + alpha[j]*p\n",
    "            sum_2 = sum_2 + np.log(sum_1)\n",
    "        sum_3 = sum_3 +sum_2\n",
    "    if np.isinf(sum_3) == True:\n",
    "        likelihood.append(-10**5)\n",
    "        bic.append(10**5 + h**3*np.log(N))\n",
    "    else:\n",
    "        likelihood.append(sum_3/N)\n",
    "        bic.append(-2*sum_3 + h**3*np.log(N))"
   ]
  },
  {
   "cell_type": "code",
   "execution_count": 605,
   "metadata": {},
   "outputs": [
    {
     "data": {
      "image/png": "[encoded data removed]",
      "text/plain": [
       "<Figure size 432x432 with 1 Axes>"
      ]
     },
     "metadata": {
      "needs_background": "light"
     },
     "output_type": "display_data"
    }
   ],
   "source": [
    "fig = plt.figure(figsize=(6, 6))\n",
    "ax = fig.add_subplot(1, 1, 1)\n",
    "ax.scatter([1,2,3,4,5,6], np.array(likelihood), alpha=1, label='Data')\n",
    "ax.legend()\n",
    "plt.show()"
   ]
  },
  {
   "cell_type": "code",
   "execution_count": 606,
   "metadata": {},
   "outputs": [
    {
     "data": {
      "image/png": "[encoded data removed]",
      "text/plain": [
       "<Figure size 432x432 with 1 Axes>"
      ]
     },
     "metadata": {
      "needs_background": "light"
     },
     "output_type": "display_data"
    }
   ],
   "source": [
    "fig = plt.figure(figsize=(6, 6))\n",
    "ax = fig.add_subplot(1, 1, 1)\n",
    "ax.scatter([1,2,3,4,5,6], np.array(bic), alpha=1, label='Data')\n",
    "ax.legend()\n",
    "plt.show()"
   ]
  },
  {
   "cell_type": "code",
   "execution_count": 607,
   "metadata": {},
   "outputs": [
    {
     "name": "stdout",
     "output_type": "stream",
     "text": [
      "[-5.543328967054174, -3.6569408331213458, -21.66188236435191, -100000, -100000, -100000]\n"
     ]
    }
   ],
   "source": [
    "print(likelihood)"
   ]
  },
  {
   "cell_type": "code",
   "execution_count": 608,
   "metadata": {},
   "outputs": [
    {
     "name": "stdout",
     "output_type": "stream",
     "text": [
      "[110.8665793410835, 75.44140175542097, 451.65832803099056, 100062.16979751084, 100147.36544595163, 100287.82313662425]\n"
     ]
    }
   ],
   "source": [
    "print(bic)"
   ]
  },
  {
   "cell_type": "code",
   "execution_count": 609,
   "metadata": {},
   "outputs": [
    {
     "name": "stdout",
     "output_type": "stream",
     "text": [
      "The GMM order that gets selected based on the likelihood values is : 2\n",
      "The GMM order that gets selected based on the BIC values is : 2\n"
     ]
    }
   ],
   "source": [
    "print(\"The GMM order that gets selected based on the likelihood values is : {}\".format(np.argmax(likelihood)+1))\n",
    "print(\"The GMM order that gets selected based on the BIC values is : {}\".format(np.argmin(bic)+1))"
   ]
  },
  {
   "cell_type": "code",
   "execution_count": null,
   "metadata": {},
   "outputs": [],
   "source": []
  }
 ],
 "metadata": {
  "kernelspec": {
   "display_name": "Python 3",
   "language": "python",
   "name": "python3"
  },
  "language_info": {
   "codemirror_mode": {
    "name": "ipython",
    "version": 3
   },
   "file_extension": ".py",
   "mimetype": "text/x-python",
   "name": "python",
   "nbconvert_exporter": "python",
   "pygments_lexer": "ipython3",
   "version": "3.7.3"
  }
 },
 "nbformat": 4,
 "nbformat_minor": 2
}
